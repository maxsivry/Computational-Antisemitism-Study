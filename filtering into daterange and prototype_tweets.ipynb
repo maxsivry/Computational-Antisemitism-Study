{
 "cells": [
  {
   "cell_type": "code",
   "execution_count": 1,
   "id": "03c0bc6e",
   "metadata": {},
   "outputs": [],
   "source": [
    "import json\n",
    "import random\n",
    "import pandas as pd\n",
    "from datasets import load_dataset\n",
    "from datetime import datetime"
   ]
  },
  {
   "cell_type": "code",
   "execution_count": null,
   "id": "aab2a3d8",
   "metadata": {},
   "outputs": [],
   "source": [
    "#this function takes in all our data and returns the correct data of only tweets created within date range,\n",
    "#printing to daterange.json\n",
    "\n",
    "#parse to make sure tweets are correct range\n",
    "def filter_tweets_by_date_range(tweets, start_date, end_date):\n",
    "    filtered_tweets = []\n",
    "    for tweet in tweets:\n",
    "        tweet_created_at = datetime.strptime(tweet['tweet_created_at']['$date'], '%Y-%m-%dT%H:%M:%S.%fZ')\n",
    "        if start_date <= tweet_created_at <= end_date:\n",
    "            filtered_tweets.append(tweet)\n",
    "    return filtered_tweets\n",
    "\n",
    "def subsample_json(input_file, output_file, start_date, end_date):\n",
    "    with open(input_file, 'r') as f:\n",
    "        data = json.load(f)\n",
    "    # Filter tweets based on date range\n",
    "    filtered_data = filter_tweets_by_date_range(data, start_date, end_date)\n",
    "    with open(output_file, 'w') as f:\n",
    "        json.dump(filtered_data, f, indent=4)\n",
    "        print('awesome')\n",
    "        \n",
    "input_json_file = 'Jew.json'\n",
    "output_json_file = 'daterange.json'\n",
    "start_date = datetime(2022, 9, 1)\n",
    "end_date = datetime(2022, 11, 1)\n",
    "subsample_json(input_json_file, output_json_file, start_date, end_date)\n",
    "print('success')"
   ]
  },
  {
   "cell_type": "code",
   "execution_count": 2,
   "id": "030d8e48",
   "metadata": {},
   "outputs": [
    {
     "name": "stdout",
     "output_type": "stream",
     "text": [
      "                                         _id  \\\n",
      "0       {'$oid': '64258bae2643a0bff73ba28a'}   \n",
      "1       {'$oid': '642063ebf6d089e30a4d67a6'}   \n",
      "2       {'$oid': '642053ea43f20e2970dc6c5c'}   \n",
      "3       {'$oid': '64259f7d359f5e3f5a481d4c'}   \n",
      "4       {'$oid': '64258baf2643a0bff73d886a'}   \n",
      "...                                      ...   \n",
      "241968  {'$oid': '642630c71b4dd40e9592337d'}   \n",
      "241969  {'$oid': '642063bb4e764554ef4ec4eb'}   \n",
      "241970  {'$oid': '64208c374e764554efb251f1'}   \n",
      "241971  {'$oid': '64205ea6d4f06de39731fa56'}   \n",
      "241972  {'$oid': '64262f7f71f61b5f0f92009b'}   \n",
      "\n",
      "                                                pure_text  \\\n",
      "0       RT @Tracking_Power:When we say “Zionists” they...   \n",
      "1       RT @Tracking_Power:When we say “Zionists” they...   \n",
      "2       RT @MarsMonkey_:🧢, even Jesus (and apostoles) ...   \n",
      "3       RT @RightWingCope:Kanye also claimed Disney wa...   \n",
      "4       RT @Tracking_Power:When we say “Zionists” they...   \n",
      "...                                                   ...   \n",
      "241968  @wiseduck2 @BoomerangTime @Lyd1R @HanneyAngel ...   \n",
      "241969  @BetalJuice @Ltitia77894442 @wiseduck2 @Buster...   \n",
      "241970  @wiseduck2 @Ltitia77894442 @Busternr1 @speedym...   \n",
      "241971  @BetalJuice @Busternr1 @emmettimanu @Brad_Spie...   \n",
      "241972  @AliIbra12680720 @IloveBush43 @BgoerckeRobert ...   \n",
      "\n",
      "                                                  rt_text  \\\n",
      "0       @Amoryblaire @Tracking_Power \"the Jews\"? No on...   \n",
      "1       @Amoryblaire @Tracking_Power \"the Jews\"? No on...   \n",
      "2       Jews are our elder brothers in faith. For a Ch...   \n",
      "3       Just watched the new Kanye interview and he bl...   \n",
      "4       @Amoryblaire @Tracking_Power \"the Jews\"? No on...   \n",
      "...                                                   ...   \n",
      "241968                                                NaN   \n",
      "241969                                                NaN   \n",
      "241970                                                NaN   \n",
      "241971                                                NaN   \n",
      "241972                                                NaN   \n",
      "\n",
      "                             tweet_created_at             tweet_id  \\\n",
      "0       {'$date': '2022-10-09T18:55:28.000Z'}  1579183784117043200   \n",
      "1       {'$date': '2022-10-09T18:55:28.000Z'}  1579183784117043200   \n",
      "2       {'$date': '2022-10-06T15:34:50.000Z'}  1578046128213327873   \n",
      "3       {'$date': '2022-10-17T16:33:50.000Z'}  1582047243015553043   \n",
      "4       {'$date': '2022-10-09T18:50:37.000Z'}  1579182561871691776   \n",
      "...                                       ...                  ...   \n",
      "241968  {'$date': '2022-10-30T15:38:06.000Z'}  1586744258249326593   \n",
      "241969  {'$date': '2022-10-22T22:31:36.000Z'}  1583949218934235136   \n",
      "241970  {'$date': '2022-10-22T21:17:31.000Z'}  1583930572329476096   \n",
      "241971  {'$date': '2022-10-24T23:51:16.000Z'}  1584694040096026626   \n",
      "241972  {'$date': '2022-10-28T05:24:17.000Z'}  1585865013419704320   \n",
      "\n",
      "                    user_id                        user_created_at  \\\n",
      "0       1155058935906361344  {'$date': '2019-07-27T10:14:45.000Z'}   \n",
      "1       1155058935906361344  {'$date': '2019-07-27T10:14:45.000Z'}   \n",
      "2       1326018621303365635  {'$date': '2020-11-10T04:27:46.000Z'}   \n",
      "3       1328828819625574401  {'$date': '2020-11-17T22:34:40.000Z'}   \n",
      "4                 157409037  {'$date': '2010-06-19T18:33:55.000Z'}   \n",
      "...                     ...                                    ...   \n",
      "241968  1526222167393828864  {'$date': '2022-05-16T15:25:13.000Z'}   \n",
      "241969  1526222167393828864  {'$date': '2022-05-16T15:25:13.000Z'}   \n",
      "241970  1526222167393828864  {'$date': '2022-05-16T15:25:13.000Z'}   \n",
      "241971  1526222167393828864  {'$date': '2022-05-16T15:25:13.000Z'}   \n",
      "241972  1526222167393828864  {'$date': '2022-05-16T15:25:13.000Z'}   \n",
      "\n",
      "       fastText_lang  fastText_conf   verb  \\\n",
      "0                 en           0.82  share   \n",
      "1                 en           0.82  share   \n",
      "2                 en           0.92  share   \n",
      "3                 en           0.96  share   \n",
      "4                 en           0.82  share   \n",
      "...              ...            ...    ...   \n",
      "241968            en           0.97   post   \n",
      "241969            en           0.94   post   \n",
      "241970            en           0.95   post   \n",
      "241971            en           1.00   post   \n",
      "241972            en           0.91   post   \n",
      "\n",
      "                                                    actor  \\\n",
      "0       {'objectType': 'person', 'id': 'id:twitter.com...   \n",
      "1       {'objectType': 'person', 'id': 'id:twitter.com...   \n",
      "2       {'objectType': 'person', 'id': 'id:twitter.com...   \n",
      "3       {'objectType': 'person', 'id': 'id:twitter.com...   \n",
      "4       {'objectType': 'person', 'id': 'id:twitter.com...   \n",
      "...                                                   ...   \n",
      "241968  {'objectType': 'person', 'id': 'id:twitter.com...   \n",
      "241969  {'objectType': 'person', 'id': 'id:twitter.com...   \n",
      "241970  {'objectType': 'person', 'id': 'id:twitter.com...   \n",
      "241971  {'objectType': 'person', 'id': 'id:twitter.com...   \n",
      "241972  {'objectType': 'person', 'id': 'id:twitter.com...   \n",
      "\n",
      "                                                     link          reply_to_id  \n",
      "0       http://twitter.com/luminatus1/statuses/1579183...                  NaN  \n",
      "1       http://twitter.com/luminatus1/statuses/1579183...                  NaN  \n",
      "2       http://twitter.com/QuahogGroyper/statuses/1578...                  NaN  \n",
      "3       http://twitter.com/ToCorrectly/statuses/158204...                  NaN  \n",
      "4       http://twitter.com/DrHarris88/statuses/1579182...                  NaN  \n",
      "...                                                   ...                  ...  \n",
      "241968  http://twitter.com/LuckyManAlways/statuses/158...  1586741335658483712  \n",
      "241969  http://twitter.com/LuckyManAlways/statuses/158...  1583935374396518400  \n",
      "241970  http://twitter.com/LuckyManAlways/statuses/158...  1583929527176421376  \n",
      "241971  http://twitter.com/LuckyManAlways/statuses/158...  1584693160621400065  \n",
      "241972  http://twitter.com/LuckyManAlways/statuses/158...  1585864252958461952  \n",
      "\n",
      "[110368 rows x 13 columns]\n"
     ]
    }
   ],
   "source": [
    "with open('daterange.json', 'r', encoding='utf-8') as f:  # Specify the encoding\n",
    "        data = json.load(f)\n",
    "        df = pd.DataFrame(data)\n",
    "\n",
    "df = df[df[\"pure_text\"].notna()]\n",
    "\n",
    "# Print the DataFrame\n",
    "print(df)\n",
    "\n",
    "# Export the DataFrame to a new CSV file\n",
    "df.to_csv('pure_text_dr.csv', index=False)"
   ]
  },
  {
   "cell_type": "code",
   "execution_count": 9,
   "id": "bac5bc5c",
   "metadata": {},
   "outputs": [],
   "source": [
    "# #this function samples o.1 percent of daterange.json and returns in randomsample.json\n",
    "\n",
    "\n",
    "# def subsample(input_file, output_file, subsample_percent):\n",
    "#     with open(input_file, 'r', encoding='utf-8') as f:  # Specify the encoding\n",
    "#         data = json.load(f)\n",
    "    \n",
    "#     subsample_size = int(len(data) * (subsample_percent / 100))\n",
    "    \n",
    "#     subsample = random.sample(data, subsample_size)\n",
    "    \n",
    "#     with open(output_file, 'w', encoding='utf-8') as f:  # Specify the encoding\n",
    "#         json.dump(subsample, f, indent=4, ensure_ascii=False)  # Ensure_ascii=False for non-ASCII characters\n",
    "\n",
    "# # Usage example\n",
    "# input_json_file = 'daterange.json' \n",
    "# output_json_file = 'randomsample.json'  \n",
    "# subsample_percent = 0.1  # Replace with the desired subsample percentage\n",
    "\n",
    "# subsample(input_json_file, output_json_file, subsample_percent)\n"
   ]
  },
  {
   "cell_type": "code",
   "execution_count": 13,
   "id": "47e4db52",
   "metadata": {},
   "outputs": [
    {
     "data": {
      "application/vnd.jupyter.widget-view+json": {
       "model_id": "7a54f0680e924fe2a61f0b63012e7c43",
       "version_major": 2,
       "version_minor": 0
      },
      "text/plain": [
       "Downloading data files:   0%|          | 0/1 [00:00<?, ?it/s]"
      ]
     },
     "metadata": {},
     "output_type": "display_data"
    },
    {
     "data": {
      "application/vnd.jupyter.widget-view+json": {
       "model_id": "ced30eb49a9c47678464a8c1e2065631",
       "version_major": 2,
       "version_minor": 0
      },
      "text/plain": [
       "Extracting data files:   0%|          | 0/1 [00:00<?, ?it/s]"
      ]
     },
     "metadata": {},
     "output_type": "display_data"
    },
    {
     "data": {
      "application/vnd.jupyter.widget-view+json": {
       "model_id": "895ba0814d164398a254217440c2df12",
       "version_major": 2,
       "version_minor": 0
      },
      "text/plain": [
       "Generating train split: 0 examples [00:00, ? examples/s]"
      ]
     },
     "metadata": {},
     "output_type": "display_data"
    },
    {
     "name": "stdout",
     "output_type": "stream",
     "text": [
      "241973\n",
      "110368\n",
      "0      {'$date': '2022-10-25T01:08:16.000Z'}\n",
      "1      {'$date': '2022-10-27T00:42:53.000Z'}\n",
      "2      {'$date': '2022-09-07T19:02:36.000Z'}\n",
      "3      {'$date': '2022-10-10T17:44:17.000Z'}\n",
      "4      {'$date': '2022-09-19T03:49:09.000Z'}\n",
      "                       ...                  \n",
      "695    {'$date': '2022-09-02T01:44:01.000Z'}\n",
      "696    {'$date': '2022-10-12T22:04:23.000Z'}\n",
      "697    {'$date': '2022-09-30T09:41:51.000Z'}\n",
      "698    {'$date': '2022-09-27T05:54:47.000Z'}\n",
      "699    {'$date': '2022-09-26T18:30:59.000Z'}\n",
      "Name: tweet_created_at, Length: 700, dtype: object\n"
     ]
    }
   ],
   "source": [
    "#this function creates the annotated data set\n",
    "\n",
    "# Load JSON dataset\n",
    "file_path = 'daterange.json'\n",
    "prototype_tweets = load_dataset('json', data_files=file_path)\n",
    "data = prototype_tweets['train']\n",
    "\n",
    "# Convert the data to a Pandas DataFrame\n",
    "df = pd.DataFrame(data)\n",
    "print(len(df))\n",
    "df = df[df[\"pure_text\"].notna()]\n",
    "print(len(df))\n",
    "df['label'] = None\n",
    "df = df.sample(n=700, random_state=42)\n",
    "df = df.reset_index(drop=True)\n",
    "df['row_number'] = df.index + 1\n",
    "print(df['tweet_created_at'])\n",
    "df = df[[\"row_number\",\"rt_text\",\"pure_text\", \"label\"]]"
   ]
  },
  {
   "cell_type": "code",
   "execution_count": 14,
   "id": "5a668660",
   "metadata": {},
   "outputs": [],
   "source": [
    "#prints annotated data set to cv to be annotated\n",
    "csv_file_path = 'prototype_tweets.csv'\n",
    "df.to_csv(csv_file_path, index=False)"
   ]
  },
  {
   "cell_type": "code",
   "execution_count": null,
   "id": "946fcc75",
   "metadata": {},
   "outputs": [],
   "source": []
  }
 ],
 "metadata": {
  "kernelspec": {
   "display_name": "Python 3 (ipykernel)",
   "language": "python",
   "name": "python3"
  },
  "language_info": {
   "codemirror_mode": {
    "name": "ipython",
    "version": 3
   },
   "file_extension": ".py",
   "mimetype": "text/x-python",
   "name": "python",
   "nbconvert_exporter": "python",
   "pygments_lexer": "ipython3",
   "version": "3.11.4"
  }
 },
 "nbformat": 4,
 "nbformat_minor": 5
}
